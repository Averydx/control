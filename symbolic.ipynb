{
 "cells": [
  {
   "cell_type": "code",
   "execution_count": 51,
   "metadata": {},
   "outputs": [],
   "source": [
    "from sympy import symbols, Function, diff, sin, cos,simplify\n",
    "from sympy.physics.mechanics import dynamicsymbols, Lagrangian\n",
    "from sympy.physics.mechanics import LagrangesMethod\n",
    "from IPython.display import display, Math\n",
    "sp.init_printing()"
   ]
  },
  {
   "cell_type": "code",
   "execution_count": 52,
   "metadata": {},
   "outputs": [],
   "source": [
    "# Define time variable\n",
    "t = symbols('t')\n",
    "\n",
    "# Generalized coordinate and its derivative for a simple pendulum\n",
    "x_1 = Function('')\n",
    "\n",
    "\n",
    "theta = Function('theta')(t)  # Pendulum angle from the vertical\n",
    "theta_dot = diff(theta, t)  # Angular velocity\n"
   ]
  },
  {
   "cell_type": "code",
   "execution_count": 53,
   "metadata": {},
   "outputs": [],
   "source": [
    "# System parameters: length, mass, gravitational acceleration\n",
    "L, m, g = symbols('L m g')\n",
    "\n",
    "# Position of the pendulum bob in Cartesian coordinates\n",
    "x = L * sin(theta)\n",
    "y = -L * cos(theta)\n",
    "\n",
    "# Velocity components\n",
    "x_dot = diff(x, t)\n",
    "y_dot = diff(y, t)\n",
    "\n",
    "# Kinetic energy: T = (1/2) m (vx^2 + vy^2)\n",
    "T = (1/2) * m * (x_dot**2 + y_dot**2)\n",
    "\n",
    "# Potential energy: U = m * g * h = m * g * y\n",
    "U = m * g * y\n",
    "\n",
    "# Lagrangian: L = T - U\n",
    "L = T - U\n",
    "\n",
    "# Derive equations of motion using Lagrange's equations\n",
    "# Generalized coordinate is theta\n",
    "LM = LagrangesMethod(L, [theta])\n",
    "eom = LM.form_lagranges_equations()"
   ]
  },
  {
   "cell_type": "code",
   "execution_count": 54,
   "metadata": {},
   "outputs": [
    {
     "data": {
      "text/latex": [
       "$\\displaystyle L m \\left(1.0 L \\frac{d^{2}}{d t^{2}} \\theta{\\left(t \\right)} + g \\sin{\\left(\\theta{\\left(t \\right)} \\right)}\\right)$"
      ],
      "text/plain": [
       "<IPython.core.display.Math object>"
      ]
     },
     "metadata": {},
     "output_type": "display_data"
    }
   ],
   "source": [
    "for eq in eom:\n",
    "    display(Math(f'{sp.latex(simplify(eq))}'))\n"
   ]
  }
 ],
 "metadata": {
  "kernelspec": {
   "display_name": ".venv",
   "language": "python",
   "name": "python3"
  },
  "language_info": {
   "codemirror_mode": {
    "name": "ipython",
    "version": 3
   },
   "file_extension": ".py",
   "mimetype": "text/x-python",
   "name": "python",
   "nbconvert_exporter": "python",
   "pygments_lexer": "ipython3",
   "version": "3.12.4"
  }
 },
 "nbformat": 4,
 "nbformat_minor": 2
}
